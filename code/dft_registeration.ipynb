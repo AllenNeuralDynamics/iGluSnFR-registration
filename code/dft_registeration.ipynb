{
 "cells": [
  {
   "cell_type": "code",
   "execution_count": 1,
   "metadata": {},
   "outputs": [],
   "source": [
    "import os\n",
    "import time\n",
    "import scipy\n",
    "import numpy as np\n",
    "import h5py\n",
    "import numpy.ma as ma\n",
    "from jnormcorre.motion_correction import MotionCorrect\n",
    "from ScanImageTiffReader import ScanImageTiffReader\n",
    "from scipy.fft import fft2\n",
    "import cv2\n",
    "from scipy.cluster.hierarchy import linkage\n",
    "from scipy.spatial.distance import squareform\n",
    "from scipy.stats import pearsonr\n",
    "from scipy.ndimage import binary_dilation\n",
    "from scipy.interpolate import interp1d, PchipInterpolator\n",
    "from scipy.cluster.hierarchy import fcluster\n",
    "from scipy.ndimage import convolve, shift\n",
    "from tifffile import tifffile\n",
    "import matplotlib.pyplot as plt\n",
    "from scipy.io import loadmat\n",
    "from numba import jit, int64, float32, prange"
   ]
  },
  {
   "cell_type": "code",
   "execution_count": 16,
   "metadata": {},
   "outputs": [],
   "source": [
    "def circshift(arr, shift, axes=None):\n",
    "    \"\"\"\n",
    "    Circularly shift the elements of an array.\n",
    "\n",
    "    Parameters:\n",
    "    - arr (np.ndarray): Input array to be shifted.\n",
    "    - shift (int, list, or np.ndarray): Number of places by which elements are shifted.\n",
    "        - If an integer, the same shift is applied to all axes.\n",
    "        - If a list or np.ndarray, each element specifies the shift for the corresponding axis.\n",
    "    - axes (int, list of ints, or None, optional): Axis or axes along which to shift.\n",
    "        - If None and shift is an integer, shift is applied to all axes.\n",
    "        - If None and shift is a list/array, the length of shift must match the number of dimensions in arr.\n",
    "        - Can be an integer or a list of integers corresponding to the axes.\n",
    "\n",
    "    Returns:\n",
    "    - np.ndarray: The shifted array.\n",
    "\n",
    "    Raises:\n",
    "    - ValueError: If the length of shift does not match the number of specified axes.\n",
    "    \"\"\"\n",
    "    arr = np.asarray(arr)\n",
    "    ndim = arr.ndim\n",
    "\n",
    "    # Handle the axes parameter\n",
    "    if axes is None:\n",
    "        if isinstance(shift, (int, float)):\n",
    "            axes = tuple(range(ndim))\n",
    "            shift = (int(shift),) * ndim\n",
    "        else:\n",
    "            shift = tuple(int(s) for s in shift)\n",
    "            if len(shift) != ndim:\n",
    "                raise ValueError(\"Length of shift array must match number of dimensions of arr.\")\n",
    "            axes = tuple(range(ndim))\n",
    "    else:\n",
    "        if isinstance(axes, int):\n",
    "            axes = (axes,)\n",
    "        elif isinstance(axes, (list, tuple, np.ndarray)):\n",
    "            axes = tuple(axes)\n",
    "        else:\n",
    "            raise ValueError(\"axes must be an int or a list/tuple of ints.\")\n",
    "\n",
    "        if isinstance(shift, (int, float)):\n",
    "            shift = (int(shift),) * len(axes)\n",
    "        else:\n",
    "            shift = tuple(int(s) for s in shift)\n",
    "            if len(shift) != len(axes):\n",
    "                raise ValueError(\"Length of shift array must match number of specified axes.\")\n",
    "\n",
    "    # Apply the shifts\n",
    "    for axis, s in zip(axes, shift):\n",
    "        arr = np.roll(arr, shift=s, axis=axis)\n",
    "\n",
    "    return arr\n",
    "      \n",
    "def dftups(inp, nor, noc, usfac, roff=0, coff=0):\n",
    "    nr, nc = inp.shape\n",
    "    # Compute kernels and obtain DFT by matrix products\n",
    "    # kernc = np.exp(\n",
    "    #     (-1j * 2 * np.pi / (nc * usfac))\n",
    "    #     * (np.fft.ifftshift(np.arange(nc)) - np.floor(nc/2)).reshape(-1, 1)\n",
    "    #     @ (np.arange(noc) - coff).reshape(1, -1)\n",
    "    # )\n",
    "    # kernr = np.exp(\n",
    "    #     (-1j * 2 * np.pi / (nr * usfac))\n",
    "    #     * (np.arange(nor).reshape(-1, 1) - roff)\n",
    "    #     @ (np.fft.ifftshift(np.arange(nr)) - np.floor(nr/2)).reshape(1, -1)\n",
    "    #     )\n",
    "    # Compute kernc (column kernel)\n",
    "    kernc = np.exp((-1j * 2 * np.pi / (nc * usfac)) *\n",
    "                (np.fft.ifftshift(np.arange(nc)) - np.floor(nc / 2)).reshape(-1, 1) *\n",
    "                (np.arange(noc) - coff))\n",
    "\n",
    "    # Compute kernr (row kernel)\n",
    "    kernr = np.exp((-1j * 2 * np.pi / (nr * usfac)) *\n",
    "                (np.arange(nor).reshape(-1, 1) - roff) *\n",
    "                (np.fft.ifftshift(np.arange(nr)) - np.floor(nr / 2)))\n",
    "    out = kernr @ inp @ kernc\n",
    "    return out\n",
    "    \n",
    "def dftregistration_clipped(buf1ft, buf2ft, usfac=1, clip=None):\n",
    "    if clip is None:\n",
    "        clip = [0, 0]\n",
    "    elif isinstance(clip, (int, float)):\n",
    "        clip = [clip, clip]\n",
    "\n",
    "    # Compute error for no pixel shift\n",
    "    if usfac == 0:\n",
    "        CCmax = np.sum(buf1ft * np.conj(buf2ft))\n",
    "        rfzero = np.sum(np.abs(buf1ft.flatten()) ** 2)\n",
    "        rgzero = np.sum(np.abs(buf2ft.flatten()) ** 2)\n",
    "        error = 1.0 - CCmax * np.conj(CCmax) / (rgzero * rfzero)\n",
    "        error = np.sqrt(np.abs(error))\n",
    "        diffphase = np.arctan2(np.imag(CCmax), np.real(CCmax))\n",
    "        output = [error, diffphase]\n",
    "        return output, None\n",
    "\n",
    "    # Whole-pixel shift - Compute crosscorrelation by an IFFT and locate the peak\n",
    "    elif usfac == 1:\n",
    "        m, n = buf1ft.shape\n",
    "        md2 = m // 2\n",
    "        nd2 = n // 2\n",
    "        CC = np.fft.ifft2(buf1ft * np.conj(buf2ft))\n",
    "\n",
    "        keep = np.ones(CC.shape, dtype=bool)\n",
    "        keep[clip[0] // 2 + 1 : -clip[0] // 2, :] = False\n",
    "        keep[:, clip[1] // 2 + 1 : -clip[1] // 2] = False\n",
    "        CC[~keep] = 0\n",
    "\n",
    "        max1 = np.max(np.real(CC), axis=0)\n",
    "        loc1 = np.argmax(np.real(CC), axis=0)\n",
    "        max2 = np.max(max1)\n",
    "        loc2 = np.argmax(max1)\n",
    "        rloc = loc1[loc2]\n",
    "        cloc = loc2\n",
    "        CCmax = CC[rloc, cloc]\n",
    "        rfzero = np.sum(np.abs(buf1ft.flatten()) ** 2) / (m * n)\n",
    "        rgzero = np.sum(np.abs(buf2ft.flatten()) ** 2) / (m * n)\n",
    "        error = 1.0 - CCmax * np.conj(CCmax) / (rgzero * rfzero)\n",
    "        error = np.sqrt(np.abs(error))\n",
    "        diffphase = np.arctan2(np.imag(CCmax), np.real(CCmax))\n",
    "\n",
    "        md2 = m // 2\n",
    "        nd2 = n // 2\n",
    "        if rloc > md2:\n",
    "            row_shift = rloc - m - 1  # Add the -1\n",
    "        else:\n",
    "            row_shift = rloc - 1      # Add the -1\n",
    "\n",
    "        if cloc > nd2:\n",
    "            col_shift = cloc - n - 1  # Add the -1\n",
    "        else:\n",
    "            col_shift = cloc - 1      # Add the -1\n",
    "\n",
    "        output = [error, diffphase, row_shift, col_shift]\n",
    "        return output, None\n",
    "\n",
    "    # Partial-pixel shift\n",
    "    else:\n",
    "        m, n = buf1ft.shape\n",
    "        mlarge = m * 2\n",
    "        nlarge = n * 2\n",
    "        CC = np.zeros((mlarge, nlarge), dtype=np.complex128)\n",
    "        # CC[\n",
    "        #     m - (m // 2) : m + (m // 2),\n",
    "        #     n - (n // 2) : n + (n // 2),\n",
    "        # ] = np.fft.fftshift(buf1ft) * np.conj(np.fft.fftshift(buf2ft))\n",
    "        CC[m//2:m//2 + m, n//2:n//2 + n] = np.fft.fftshift(buf1ft) * np.conj(np.fft.fftshift(buf2ft))\n",
    "        # Compute crosscorrelation and locate the peak\n",
    "        CC = np.fft.ifft2(np.fft.ifftshift(CC))  # Calculate cross-correlation\n",
    "\n",
    "        keep = np.ones(CC.shape, dtype=bool)\n",
    "        keep[2 * clip[0] + 1 : -2 * clip[0], :] = False\n",
    "        keep[:, 2 * clip[1] + 1 : -2 * clip[1]] = False\n",
    "        CC[~keep] = 0\n",
    "\n",
    "        max1 = np.max(np.real(CC), axis=1)\n",
    "        loc1 = np.argmax(np.real(CC), axis=1)\n",
    "        max2 = np.max(max1)\n",
    "        loc2 = np.argmax(max1)\n",
    "        max_val = np.max(np.real(CC))\n",
    "        rloc, cloc = np.unravel_index(np.argmax(np.real(CC)), CC.shape)\n",
    "        CCmax = CC[rloc, cloc]\n",
    "\n",
    "        # Obtain shift in original pixel grid from the position of the\n",
    "        # crosscorrelation peak\n",
    "        m, n = CC.shape\n",
    "        md2 = m // 2\n",
    "        nd2 = n // 2\n",
    "        if rloc > md2:\n",
    "            row_shift = rloc - m\n",
    "        else:\n",
    "            row_shift = rloc\n",
    "        if cloc > nd2:\n",
    "            col_shift = cloc - n\n",
    "        else:\n",
    "            col_shift = cloc\n",
    "        row_shift = row_shift / 2\n",
    "        col_shift = col_shift / 2\n",
    "\n",
    "        # If upsampling > 2, then refine estimate with matrix multiply DFT\n",
    "        if usfac > 2:\n",
    "            # Initial shift estimate in upsampled grid\n",
    "            row_shift = np.round(row_shift * usfac, decimals=15) / usfac\n",
    "            col_shift = np.round(col_shift * usfac, decimals=15) / usfac\n",
    "            dftshift = np.fix(np.ceil(usfac * 1.5) / 2)  # Center of output array at dftshift+1\n",
    "            # Matrix multiply DFT around the current shift estimate\n",
    "            CC = np.conj(\n",
    "                dftups(\n",
    "                    buf2ft * np.conj(buf1ft),\n",
    "                    np.ceil(usfac * 1.5),\n",
    "                    np.ceil(usfac * 1.5),\n",
    "                    usfac,\n",
    "                    dftshift - row_shift * usfac,\n",
    "                    dftshift - col_shift * usfac,\n",
    "                )\n",
    "            ) / (md2 * nd2 * usfac ** 2)\n",
    "            # Locate maximum and map back to original pixel grid\n",
    "            max1 = np.max(np.real(CC), axis=0) #<--------- was set to axis 0\n",
    "            loc1 = np.argmax(np.real(CC), axis=0) #<--------- was set to axis 0\n",
    "            max2 = np.max(max1)\n",
    "            loc2 = np.argmax(max1)\n",
    "            rloc = loc1[loc2]\n",
    "            cloc = loc2\n",
    "            CCmax = CC[rloc, cloc]\n",
    "            rg00 = dftups(buf1ft * np.conj(buf1ft), 1, 1, usfac) / (md2 * nd2 * usfac ** 2)\n",
    "            rf00 = dftups(buf2ft * np.conj(buf2ft), 1, 1, usfac) / (md2 * nd2 * usfac ** 2)\n",
    "            rloc = rloc - dftshift\n",
    "            cloc = cloc - dftshift\n",
    "            row_shift = row_shift + rloc / usfac\n",
    "            col_shift = col_shift + cloc / usfac\n",
    "\n",
    "            # If upsampling = 2, no additional pixel shift refinement\n",
    "        else:\n",
    "            rg00 = np.sum(buf1ft * np.conj(buf1ft)) / m / n\n",
    "            rf00 = np.sum(buf2ft * np.conj(buf2ft)) / m / n\n",
    "        error = 1.0 - CCmax * np.conj(CCmax) / (rg00 * rf00)\n",
    "        error = np.sqrt(np.abs(error))\n",
    "        diffphase = np.arctan2(np.imag(CCmax), np.real(CCmax))\n",
    "        # If its only one row or column the shift along that dimension has no\n",
    "        # effect. We set to zero.\n",
    "        if md2 == 1:\n",
    "            row_shift = 0\n",
    "        if nd2 == 1:\n",
    "            col_shift = 0\n",
    "        output = [error, diffphase, row_shift, col_shift]\n",
    "\n",
    "        # Compute registered version of buf2ft\n",
    "        if usfac > 0:\n",
    "            nr, nc = buf2ft.shape\n",
    "            Nr = np.fft.ifftshift(np.arange(-np.fix(nr / 2), np.ceil(nr / 2)))\n",
    "            Nc = np.fft.ifftshift(np.arange(-np.fix(nc / 2), np.ceil(nc / 2)))\n",
    "            Nc, Nr = np.meshgrid(Nc, Nr)\n",
    "            Greg = buf2ft * np.exp(\n",
    "                1j * 2 * np.pi * (-row_shift * Nr / nr - col_shift * Nc / nc)\n",
    "            )\n",
    "            Greg = Greg * np.exp(1j * diffphase)\n",
    "        elif usfac == 0:\n",
    "            Greg = buf2ft * np.exp(1j * diffphase)\n",
    "        else:\n",
    "            Greg = None\n",
    "    return output, Greg\n",
    "    \n",
    "def fast_xcorr2_nans(frame, template, shiftsCenter, dShift):\n",
    "    dShift = round(dShift)  # Sanity check\n",
    "\n",
    "    SE = np.ones((2 * dShift + 1, 2 * dShift + 1), dtype=np.uint8)\n",
    "\n",
    "    # Valid pixels of the new frame\n",
    "    rows, cols = template.shape\n",
    "    M = np.float32([[1, 0, shiftsCenter[0]], [0, 1, shiftsCenter[1]]])\n",
    "    tmp = cv2.warpAffine(1-cv2.dilate(np.isnan(template).astype(np.uint8), SE, iterations=1), M, (cols, rows),\n",
    "                            borderMode=cv2.BORDER_CONSTANT, flags=cv2.INTER_NEAREST).astype(bool)\n",
    "    fValid = np.zeros(frame.shape, dtype=bool)\n",
    "    fValid[dShift:-dShift, dShift:-dShift] = ~np.isnan(frame[dShift:-dShift, dShift:-dShift]) & tmp[dShift:-dShift, dShift:-dShift]\n",
    "\n",
    "    tValid = np.roll(fValid, -shiftsCenter, axis=(0, 1)).astype(bool)\n",
    "\n",
    "    F = frame[fValid]\n",
    "    ssF = np.sqrt(F.dot(F))\n",
    "\n",
    "    # Correlation is sum(A.*B)./(sqrt(ssA)*sqrt(ssB)); ssB is constant though\n",
    "    tV0, tV1 = np.where(tValid)\n",
    "    tValidInd = tV0 * cols + tV1\n",
    "\n",
    "    shifts = np.arange(-dShift, dShift + 1)\n",
    "    C = np.full((len(shifts), len(shifts)), np.nan)\n",
    "    # Print datatypes before the loop\n",
    "    for drix, shift_x in enumerate(shifts):\n",
    "        for dcix, shift_y in enumerate(shifts):\n",
    "            shifted_tValid = np.roll(tValid, (-shift_x, -shift_y), axis=(0, 1))\n",
    "            T = template[shifted_tValid]\n",
    "            ssT = np.sum(T ** 2)\n",
    "            \n",
    "            if ssT > 0:  # Only calculate if ssT is greater than zero\n",
    "                C[drix, dcix] = np.sum(F * T) / np.sqrt(ssT)\n",
    "            else:\n",
    "                C[drix, dcix] = np.nan  # Handle cases where ssT is zero\n",
    "            \n",
    "    # plt.imshow(C)\n",
    "    # Find maximum of correlation map\n",
    "    maxval = np.nanmax(C)\n",
    "    I = np.unravel_index(np.nanargmax(C), C.shape)\n",
    "    rr, cc = I\n",
    "    R = maxval / ssF  # Correlation coefficient\n",
    "\n",
    "    if 0 < rr < len(shifts) - 1 and 0 < cc < len(shifts) - 1:\n",
    "        # Perform superresolution upsampling\n",
    "        ratioR = min(1e6, (C[rr, cc] - C[rr - 1, cc]) / (C[rr, cc] - C[rr + 1, cc]))\n",
    "        dR = (1 - ratioR) / (1 + ratioR) / 2\n",
    "        ratioC = min(1e6, (C[rr, cc] - C[rr, cc - 1]) / (C[rr, cc] - C[rr, cc + 1]))\n",
    "        dC = (1 - ratioC) / (1 + ratioC) / 2\n",
    "        motion = shiftsCenter + [shifts[rr] - dR, shifts[cc] - dC]\n",
    "    else:\n",
    "        # The optimum is at an edge of search range; no superresolution\n",
    "        motion = shiftsCenter + [shifts[rr], shifts[cc]]\n",
    "\n",
    "    if np.any(np.isnan(motion)):\n",
    "        raise ValueError('Motion result contains NaN values')\n",
    "\n",
    "    return motion, R\n",
    "\n",
    "def matlab_round(x):\n",
    "    \"\"\"\n",
    "    Replicates MATLAB's round function behavior\n",
    "    \n",
    "    In MATLAB:\n",
    "    - round(4.5) = 5\n",
    "    - round(-4.5) = -5\n",
    "    \"\"\"\n",
    "    if x >= 0:\n",
    "        return int(np.floor(x + 0.5))\n",
    "    else:\n",
    "        return int(np.ceil(x - 0.5))"
   ]
  },
  {
   "cell_type": "code",
   "execution_count": 2,
   "metadata": {},
   "outputs": [],
   "source": [
    "M_mat = loadmat('/root/capsule/scratch/MandT_debug_177itr.mat')['M']\n",
    "T_mat = loadmat('/root/capsule/scratch/MandT_debug_177itr.mat')['T']\n",
    "clipShift = 10"
   ]
  },
  {
   "cell_type": "code",
   "execution_count": 7,
   "metadata": {},
   "outputs": [
    {
     "name": "stdout",
     "output_type": "stream",
     "text": [
      "[array([[0.61949092]]), 5.856381287411878e-18, -3.75, 6.25]\n"
     ]
    }
   ],
   "source": [
    "check,_ = dftregistration_clipped(fft2(M_mat.astype(np.float32)), fft2(T_mat.astype(np.float32)), 4, clipShift)\n",
    "print(check)"
   ]
  },
  {
   "cell_type": "code",
   "execution_count": 3,
   "metadata": {},
   "outputs": [],
   "source": [
    "buf1ft = fft2(M_mat.astype(np.float32))\n",
    "buf2ft = fft2(T_mat.astype(np.float32))\n",
    "usfac = 4\n",
    "clip = [10, 10]\n"
   ]
  },
  {
   "cell_type": "code",
   "execution_count": 26,
   "metadata": {},
   "outputs": [],
   "source": [
    "m, n = buf1ft.shape\n",
    "mlarge = m * 2\n",
    "nlarge = n * 2\n",
    "CC = np.zeros((mlarge, nlarge), dtype=np.complex128)\n",
    "# CC[\n",
    "#     m - (m // 2) : m + (m // 2),\n",
    "#     n - (n // 2) : n + (n // 2),\n",
    "# ] = np.fft.fftshift(buf1ft) * np.conj(np.fft.fftshift(buf2ft))\n",
    "# Adjust slicing indices to match (41, 125)\n",
    "row_start = m - (m // 2)\n",
    "row_end = row_start + buf1ft.shape[0]  # Ensure it matches rows of buf1ft\n",
    "col_start = n - (n // 2)\n",
    "col_end = col_start + buf1ft.shape[1]  # Ensure it matches columns of buf2ft\n",
    "\n",
    "# Perform fftshift and element-wise multiplication with conjugate\n",
    "CC[row_start:row_end, col_start:col_end] = (\n",
    "    np.fft.fftshift(buf1ft) * np.conj(np.fft.fftshift(buf2ft))\n",
    ")# Compute crosscorrelation and locate the peak\n",
    "CC = np.fft.ifft2(np.fft.ifftshift(CC))  # Calculate cross-correlation\n",
    "\n",
    "keep = np.ones(CC.shape, dtype=bool)\n",
    "keep[2 * clip[0] + 1 : -2 * clip[0], :] = False\n",
    "keep[:, 2 * clip[1] + 1 : -2 * clip[1]] = False\n",
    "CC[~keep] = 0\n",
    "\n",
    "max1 = np.max(np.real(CC), axis=0)\n",
    "loc1 = np.argmax(np.real(CC), axis=0)\n",
    "max2 = np.max(max1)\n",
    "loc2 = np.argmax(max1)\n",
    "max_val = np.max(np.real(CC))\n",
    "rloc, cloc = np.unravel_index(np.argmax(np.real(CC)), CC.shape)\n",
    "CCmax = CC[rloc, cloc]\n",
    "\n",
    "# Obtain shift in original pixel grid from the position of the\n",
    "# crosscorrelation peak\n",
    "m, n = CC.shape\n",
    "md2 = m // 2\n",
    "nd2 = n // 2\n",
    "if rloc > md2:\n",
    "    row_shift = rloc - m\n",
    "else:\n",
    "    row_shift = rloc\n",
    "if cloc > nd2:\n",
    "    col_shift = cloc - n\n",
    "else:\n",
    "    col_shift = cloc\n",
    "row_shift = row_shift / 2\n",
    "col_shift = col_shift / 2\n",
    "\n",
    "# If upsampling > 2, then refine estimate with matrix multiply DFT\n",
    "if usfac > 2:\n",
    "    # Initial shift estimate in upsampled grid\n",
    "    row_shift = matlab_round(row_shift * usfac) / usfac\n",
    "    col_shift = matlab_round(col_shift * usfac) / usfac\n",
    "    dftshift = np.fix(np.ceil(usfac * 1.5) / 2)  # Center of output array at dftshift+1\n",
    "    # Matrix multiply DFT around the current shift estimate\n",
    "    CC = np.conj(\n",
    "        dftups(\n",
    "            buf2ft * np.conj(buf1ft),\n",
    "            np.ceil(usfac * 1.5),\n",
    "            np.ceil(usfac * 1.5),\n",
    "            usfac,\n",
    "            dftshift - row_shift * usfac,\n",
    "            dftshift - col_shift * usfac,\n",
    "        )\n",
    "    ) / (md2 * nd2 * usfac ** 2)\n",
    "    # Locate maximum and map back to original pixel grid\n",
    "    max1 = np.max(np.real(CC), axis=0) #<--------- was set to axis 0\n",
    "    loc1 = np.argmax(np.real(CC), axis=0) #<--------- was set to axis 0\n",
    "    max2 = np.max(max1)\n",
    "    loc2 = np.argmax(max1)\n",
    "    rloc = loc1[loc2]\n",
    "    cloc = loc2\n",
    "    CCmax = CC[rloc, cloc]\n",
    "    rg00 = dftups(buf1ft * np.conj(buf1ft), 1, 1, usfac) / (md2 * nd2 * usfac ** 2)\n",
    "    rf00 = dftups(buf2ft * np.conj(buf2ft), 1, 1, usfac) / (md2 * nd2 * usfac ** 2)\n",
    "    rloc = rloc - dftshift\n",
    "    cloc = cloc - dftshift\n",
    "    row_shift = row_shift + rloc / usfac\n",
    "    col_shift = col_shift + cloc / usfac\n",
    "\n",
    "    # If upsampling = 2, no additional pixel shift refinement\n",
    "else:\n",
    "    rg00 = np.sum(buf1ft * np.conj(buf1ft)) / m / n\n",
    "    rf00 = np.sum(buf2ft * np.conj(buf2ft)) / m / n\n",
    "error = 1.0 - CCmax * np.conj(CCmax) / (rg00 * rf00)\n",
    "error = np.sqrt(np.abs(error))\n",
    "diffphase = np.arctan2(np.imag(CCmax), np.real(CCmax))\n",
    "# If its only one row or column the shift along that dimension has no\n",
    "# effect. We set to zero.\n",
    "if md2 == 1:\n",
    "    row_shift = 0\n",
    "if nd2 == 1:\n",
    "    col_shift = 0\n",
    "output = [error, diffphase, row_shift, col_shift]\n",
    "\n",
    "# Compute registered version of buf2ft\n",
    "if usfac > 0:\n",
    "    nr, nc = buf2ft.shape\n",
    "    Nr = np.fft.ifftshift(np.arange(-np.fix(nr / 2), np.ceil(nr / 2)))\n",
    "    Nc = np.fft.ifftshift(np.arange(-np.fix(nc / 2), np.ceil(nc / 2)))\n",
    "    Nc, Nr = np.meshgrid(Nc, Nr)\n",
    "    Greg = buf2ft * np.exp(\n",
    "        1j * 2 * np.pi * (-row_shift * Nr / nr - col_shift * Nc / nc)\n",
    "    )\n",
    "    Greg = Greg * np.exp(1j * diffphase)\n",
    "elif usfac == 0:\n",
    "    Greg = buf2ft * np.exp(1j * diffphase)\n",
    "else:\n",
    "    Greg = None"
   ]
  },
  {
   "cell_type": "code",
   "execution_count": 30,
   "metadata": {},
   "outputs": [
    {
     "data": {
      "text/plain": [
       "(-1.0, 1.0)"
      ]
     },
     "execution_count": 30,
     "metadata": {},
     "output_type": "execute_result"
    }
   ],
   "source": [
    "rloc, cloc"
   ]
  },
  {
   "cell_type": "code",
   "execution_count": 28,
   "metadata": {},
   "outputs": [
    {
     "data": {
      "text/plain": [
       "(14179903873.579525-1.22861894608875e-07j)"
      ]
     },
     "execution_count": 28,
     "metadata": {},
     "output_type": "execute_result"
    }
   ],
   "source": [
    "CCmax"
   ]
  },
  {
   "cell_type": "code",
   "execution_count": 20,
   "metadata": {},
   "outputs": [],
   "source": [
    "CC_abs = np.abs(CC)\n",
    "CC_real = np.real(CC)"
   ]
  },
  {
   "cell_type": "code",
   "execution_count": 34,
   "metadata": {},
   "outputs": [
    {
     "data": {
      "text/plain": [
       "<matplotlib.image.AxesImage at 0x7fb96532e170>"
      ]
     },
     "execution_count": 34,
     "metadata": {},
     "output_type": "execute_result"
    },
    {
     "data": {
      "image/png": "[encoded data removed]",
      "text/plain": [
       "<Figure size 640x480 with 1 Axes>"
      ]
     },
     "metadata": {},
     "output_type": "display_data"
    }
   ],
   "source": [
    "plt.imshow(CC_abs)"
   ]
  },
  {
   "cell_type": "code",
   "execution_count": 26,
   "metadata": {},
   "outputs": [
    {
     "data": {
      "text/plain": [
       "15948762446.16928"
      ]
     },
     "execution_count": 26,
     "metadata": {},
     "output_type": "execute_result"
    }
   ],
   "source": [
    "CC_abs[46, 88]"
   ]
  },
  {
   "cell_type": "code",
   "execution_count": 41,
   "metadata": {},
   "outputs": [
    {
     "data": {
      "text/plain": [
       "array([4.36875938e+10, 4.44411022e+10, 4.47722036e+10, 4.48641261e+10,\n",
       "       4.48547886e+10, 4.48140311e+10, 4.48096100e+10, 4.49441270e+10,\n",
       "       4.52060218e+10, 4.55515914e+10, 4.59413958e+10, 4.63400048e+10,\n",
       "       4.66928932e+10, 4.69371074e+10, 4.70410362e+10, 4.70026103e+10,\n",
       "       4.68129547e+10, 4.64923110e+10, 4.60086764e+10, 4.54151894e+10,\n",
       "       4.47603226e+10, 0.00000000e+00, 0.00000000e+00, 0.00000000e+00,\n",
       "       0.00000000e+00, 0.00000000e+00, 0.00000000e+00, 0.00000000e+00,\n",
       "       0.00000000e+00, 0.00000000e+00, 0.00000000e+00, 0.00000000e+00,\n",
       "       0.00000000e+00, 0.00000000e+00, 0.00000000e+00, 0.00000000e+00,\n",
       "       0.00000000e+00, 0.00000000e+00, 0.00000000e+00, 0.00000000e+00,\n",
       "       0.00000000e+00, 0.00000000e+00, 0.00000000e+00, 0.00000000e+00,\n",
       "       0.00000000e+00, 0.00000000e+00, 0.00000000e+00, 0.00000000e+00,\n",
       "       0.00000000e+00, 0.00000000e+00, 0.00000000e+00, 0.00000000e+00,\n",
       "       0.00000000e+00, 0.00000000e+00, 0.00000000e+00, 0.00000000e+00,\n",
       "       0.00000000e+00, 0.00000000e+00, 0.00000000e+00, 0.00000000e+00,\n",
       "       0.00000000e+00, 0.00000000e+00, 0.00000000e+00, 0.00000000e+00,\n",
       "       0.00000000e+00, 0.00000000e+00, 0.00000000e+00, 0.00000000e+00,\n",
       "       0.00000000e+00, 0.00000000e+00, 0.00000000e+00, 0.00000000e+00,\n",
       "       0.00000000e+00, 0.00000000e+00, 0.00000000e+00, 0.00000000e+00,\n",
       "       0.00000000e+00, 0.00000000e+00, 0.00000000e+00, 0.00000000e+00,\n",
       "       0.00000000e+00, 0.00000000e+00, 0.00000000e+00, 0.00000000e+00,\n",
       "       0.00000000e+00, 0.00000000e+00, 0.00000000e+00, 0.00000000e+00,\n",
       "       0.00000000e+00, 0.00000000e+00, 0.00000000e+00, 0.00000000e+00,\n",
       "       0.00000000e+00, 0.00000000e+00, 0.00000000e+00, 0.00000000e+00,\n",
       "       0.00000000e+00, 0.00000000e+00, 0.00000000e+00, 0.00000000e+00,\n",
       "       0.00000000e+00, 0.00000000e+00, 0.00000000e+00, 0.00000000e+00,\n",
       "       0.00000000e+00, 0.00000000e+00, 0.00000000e+00, 0.00000000e+00,\n",
       "       0.00000000e+00, 0.00000000e+00, 0.00000000e+00, 0.00000000e+00,\n",
       "       0.00000000e+00, 0.00000000e+00, 0.00000000e+00, 0.00000000e+00,\n",
       "       0.00000000e+00, 0.00000000e+00, 0.00000000e+00, 0.00000000e+00,\n",
       "       0.00000000e+00, 0.00000000e+00, 0.00000000e+00, 0.00000000e+00,\n",
       "       0.00000000e+00, 0.00000000e+00, 0.00000000e+00, 0.00000000e+00,\n",
       "       0.00000000e+00, 0.00000000e+00, 0.00000000e+00, 0.00000000e+00,\n",
       "       0.00000000e+00, 0.00000000e+00, 0.00000000e+00, 0.00000000e+00,\n",
       "       0.00000000e+00, 0.00000000e+00, 0.00000000e+00, 0.00000000e+00,\n",
       "       0.00000000e+00, 0.00000000e+00, 0.00000000e+00, 0.00000000e+00,\n",
       "       0.00000000e+00, 0.00000000e+00, 0.00000000e+00, 0.00000000e+00,\n",
       "       0.00000000e+00, 0.00000000e+00, 0.00000000e+00, 0.00000000e+00,\n",
       "       0.00000000e+00, 0.00000000e+00, 0.00000000e+00, 0.00000000e+00,\n",
       "       0.00000000e+00, 0.00000000e+00, 0.00000000e+00, 0.00000000e+00,\n",
       "       0.00000000e+00, 0.00000000e+00, 0.00000000e+00, 0.00000000e+00,\n",
       "       0.00000000e+00, 0.00000000e+00, 0.00000000e+00, 0.00000000e+00,\n",
       "       0.00000000e+00, 0.00000000e+00, 0.00000000e+00, 0.00000000e+00,\n",
       "       0.00000000e+00, 0.00000000e+00, 0.00000000e+00, 0.00000000e+00,\n",
       "       0.00000000e+00, 0.00000000e+00, 0.00000000e+00, 0.00000000e+00,\n",
       "       0.00000000e+00, 0.00000000e+00, 0.00000000e+00, 0.00000000e+00,\n",
       "       0.00000000e+00, 0.00000000e+00, 0.00000000e+00, 0.00000000e+00,\n",
       "       0.00000000e+00, 0.00000000e+00, 0.00000000e+00, 0.00000000e+00,\n",
       "       0.00000000e+00, 0.00000000e+00, 0.00000000e+00, 0.00000000e+00,\n",
       "       0.00000000e+00, 0.00000000e+00, 0.00000000e+00, 0.00000000e+00,\n",
       "       0.00000000e+00, 0.00000000e+00, 0.00000000e+00, 0.00000000e+00,\n",
       "       0.00000000e+00, 0.00000000e+00, 0.00000000e+00, 0.00000000e+00,\n",
       "       0.00000000e+00, 0.00000000e+00, 0.00000000e+00, 0.00000000e+00,\n",
       "       0.00000000e+00, 0.00000000e+00, 0.00000000e+00, 0.00000000e+00,\n",
       "       0.00000000e+00, 0.00000000e+00, 0.00000000e+00, 0.00000000e+00,\n",
       "       0.00000000e+00, 0.00000000e+00, 0.00000000e+00, 0.00000000e+00,\n",
       "       0.00000000e+00, 0.00000000e+00, 0.00000000e+00, 0.00000000e+00,\n",
       "       0.00000000e+00, 0.00000000e+00, 2.16678019e+10, 2.23071980e+10,\n",
       "       2.29506385e+10, 2.35913086e+10, 2.42826886e+10, 2.49643642e+10,\n",
       "       2.56526827e+10, 2.63995323e+10, 2.71850091e+10, 2.80130734e+10,\n",
       "       2.89141137e+10, 2.99437910e+10, 3.11116096e+10, 3.24132574e+10,\n",
       "       3.38715036e+10, 3.55482248e+10, 3.73165848e+10, 3.90930968e+10,\n",
       "       4.08216942e+10, 4.24310014e+10])"
      ]
     },
     "execution_count": 41,
     "metadata": {},
     "output_type": "execute_result"
    }
   ],
   "source": [
    "np.max(np.real(CC), axis=0)"
   ]
  },
  {
   "cell_type": "code",
   "execution_count": 42,
   "metadata": {},
   "outputs": [
    {
     "data": {
      "text/plain": [
       "array([3.73757648e+10, 3.45079867e+10, 3.15021409e+10, 2.85164406e+10,\n",
       "       2.56293019e+10, 2.28266759e+10, 2.01053170e+10, 1.75280721e+10,\n",
       "       1.56294396e+10, 1.45230332e+10, 1.36430876e+10, 1.27829633e+10,\n",
       "       1.19427745e+10, 1.11110574e+10, 1.02822518e+10, 9.46115110e+09,\n",
       "       8.65000413e+09, 7.84454263e+09, 7.04317544e+09, 6.24898948e+09,\n",
       "       5.46250113e+09, 0.00000000e+00, 0.00000000e+00, 0.00000000e+00,\n",
       "       0.00000000e+00, 0.00000000e+00, 0.00000000e+00, 0.00000000e+00,\n",
       "       0.00000000e+00, 0.00000000e+00, 0.00000000e+00, 0.00000000e+00,\n",
       "       0.00000000e+00, 0.00000000e+00, 0.00000000e+00, 0.00000000e+00,\n",
       "       0.00000000e+00, 0.00000000e+00, 0.00000000e+00, 0.00000000e+00,\n",
       "       0.00000000e+00, 0.00000000e+00, 0.00000000e+00, 0.00000000e+00,\n",
       "       0.00000000e+00, 0.00000000e+00, 0.00000000e+00, 0.00000000e+00,\n",
       "       0.00000000e+00, 0.00000000e+00, 0.00000000e+00, 0.00000000e+00,\n",
       "       0.00000000e+00, 0.00000000e+00, 0.00000000e+00, 0.00000000e+00,\n",
       "       0.00000000e+00, 0.00000000e+00, 0.00000000e+00, 0.00000000e+00,\n",
       "       0.00000000e+00, 0.00000000e+00, 1.70886656e+10, 2.01246565e+10,\n",
       "       2.32224213e+10, 2.63268492e+10, 2.93624317e+10, 3.22624471e+10,\n",
       "       3.49861631e+10, 3.75943940e+10, 4.00022706e+10, 4.21285188e+10,\n",
       "       4.39719707e+10, 4.54205963e+10, 4.64356509e+10, 4.69700094e+10,\n",
       "       4.70410362e+10, 4.65774355e+10, 4.55512776e+10, 4.40299577e+10,\n",
       "       4.21393104e+10, 3.99323033e+10])"
      ]
     },
     "execution_count": 42,
     "metadata": {},
     "output_type": "execute_result"
    }
   ],
   "source": [
    "np.max(np.real(CC), axis=1)"
   ]
  },
  {
   "cell_type": "code",
   "execution_count": 43,
   "metadata": {},
   "outputs": [
    {
     "data": {
      "text/plain": [
       "array([[3.35832135e+10, 3.39792872e+10, 3.42524915e+10, ...,\n",
       "        3.15763050e+10, 3.23211672e+10, 3.30169579e+10],\n",
       "       [3.11223640e+10, 3.14590365e+10, 3.17025481e+10, ...,\n",
       "        2.94916381e+10, 3.00881020e+10, 3.06538414e+10],\n",
       "       [2.85813637e+10, 2.88615585e+10, 2.90733273e+10, ...,\n",
       "        2.72901249e+10, 2.77529718e+10, 2.82018765e+10],\n",
       "       ...,\n",
       "       [3.98764044e+10, 4.04457876e+10, 4.07686982e+10, ...,\n",
       "        3.66071216e+10, 3.78549685e+10, 3.89898487e+10],\n",
       "       [3.79421410e+10, 3.84558807e+10, 3.87704673e+10, ...,\n",
       "        3.51122993e+10, 3.61834233e+10, 3.71653049e+10],\n",
       "       [3.58527016e+10, 3.63085032e+10, 3.66065725e+10, ...,\n",
       "        3.34448618e+10, 3.43480580e+10, 3.51830830e+10]])"
      ]
     },
     "execution_count": 43,
     "metadata": {},
     "output_type": "execute_result"
    }
   ],
   "source": [
    "np.real(CC)"
   ]
  },
  {
   "cell_type": "code",
   "execution_count": 9,
   "metadata": {},
   "outputs": [],
   "source": [
    "from scipy.io import loadmat\n",
    "\n",
    "CC_real = loadmat('/root/capsule/scratch/realCC.mat')['ans']\n"
   ]
  },
  {
   "cell_type": "code",
   "execution_count": 10,
   "metadata": {},
   "outputs": [
    {
     "data": {
      "text/plain": [
       "<matplotlib.colorbar.Colorbar at 0x7f7fd5cd26b0>"
      ]
     },
     "execution_count": 10,
     "metadata": {},
     "output_type": "execute_result"
    },
    {
     "data": {
      "image/png": "[encoded data removed]",
      "text/plain": [
       "<Figure size 640x480 with 2 Axes>"
      ]
     },
     "metadata": {},
     "output_type": "display_data"
    }
   ],
   "source": [
    "plt.imshow(np.real(CC) - CC_real)\n",
    "plt.colorbar()"
   ]
  },
  {
   "cell_type": "code",
   "execution_count": 11,
   "metadata": {},
   "outputs": [
    {
     "data": {
      "text/plain": [
       "array([[-3.35832113e+10, -3.39900194e+10, -3.42958064e+10, ...,\n",
       "        -3.16662698e+10, -3.23620396e+10, -3.30273861e+10],\n",
       "       [-3.12139498e+10, -3.16226109e+10, -3.19594907e+10, ...,\n",
       "        -2.94916580e+10, -3.00985552e+10, -3.06945215e+10],\n",
       "       [-2.89202952e+10, -2.93269094e+10, -2.96859717e+10, ...,\n",
       "        -2.73730301e+10, -2.79007897e+10, -2.84349155e+10],\n",
       "       ...,\n",
       "       [-4.09536712e+10, -4.13085600e+10, -4.14352251e+10, ...,\n",
       "        -3.83816737e+10, -3.93905165e+10, -4.02928387e+10],\n",
       "       [-3.83920777e+10, -3.87736516e+10, -3.89769673e+10, ...,\n",
       "        -3.60505472e+10, -3.69458947e+10, -3.77645420e+10],\n",
       "       [-3.59582080e+10, -3.63566879e+10, -3.66192907e+10, ...,\n",
       "        -3.38350854e+10, -3.46264420e+10, -3.53660212e+10]])"
      ]
     },
     "execution_count": 11,
     "metadata": {},
     "output_type": "execute_result"
    }
   ],
   "source": [
    "np.real(CC) - CC_real"
   ]
  },
  {
   "cell_type": "code",
   "execution_count": null,
   "metadata": {},
   "outputs": [],
   "source": []
  }
 ],
 "metadata": {
  "kernelspec": {
   "display_name": "base",
   "language": "python",
   "name": "python3"
  },
  "language_info": {
   "codemirror_mode": {
    "name": "ipython",
    "version": 3
   },
   "file_extension": ".py",
   "mimetype": "text/x-python",
   "name": "python",
   "nbconvert_exporter": "python",
   "pygments_lexer": "ipython3",
   "version": "3.10.12"
  },
  "orig_nbformat": 4,
  "vscode": {
   "interpreter": {
    "hash": "d4d1e4263499bec80672ea0156c357c1ee493ec2b1c70f0acce89fc37c4a6abe"
   }
  }
 },
 "nbformat": 4,
 "nbformat_minor": 2
}
