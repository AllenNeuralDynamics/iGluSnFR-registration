{
 "cells": [
  {
   "cell_type": "code",
   "execution_count": 42,
   "metadata": {},
   "outputs": [],
   "source": [
    "from scipy.io import loadmat\n",
    "import tempfile\n",
    "import glob\n",
    "import re\n",
    "import h5py\n",
    "from ScanImageTiffReader import ScanImageTiffReader\n",
    "from scipy.ndimage import uniform_filter1d\n",
    "from scipy.ndimage import binary_dilation\n",
    "import numpy as np\n",
    "import matplotlib.pyplot as plt\n",
    "import numpy as np"
   ]
  },
  {
   "cell_type": "code",
   "execution_count": 5,
   "metadata": {},
   "outputs": [],
   "source": [
    "def copy_file_with_structure(source_path, base_destination):\n",
    "    # Extract the relevant parts of the source path\n",
    "    base_name = os.path.basename(source_path)  # e.g., 'SIMULATION_scan_00003_1_Trial1_groundtruth.h5'\n",
    "    parent_dir = os.path.basename(os.path.dirname(source_path))  # e.g., '1'\n",
    "    grandparent_dir = os.path.basename(os.path.dirname(os.path.dirname(source_path)))  # e.g., 'iGluSnFR-testing-Sim-Data_2'\n",
    "\n",
    "    # Define the new file structure\n",
    "    new_structure = os.path.join(f\"{grandparent_dir}_registered\", parent_dir, base_name)\n",
    "\n",
    "    # Combine the base destination directory with the new file structure\n",
    "    destination_path = os.path.join(base_destination, new_structure)\n",
    "\n",
    "    # Create the necessary directories in the destination path\n",
    "    os.makedirs(os.path.dirname(destination_path), exist_ok=True)\n",
    "\n",
    "    # Copy the file to the new destination\n",
    "    shutil.copy2(source_path, destination_path)\n",
    "\n",
    "    print(f\"File copied to {destination_path}\")"
   ]
  },
  {
   "cell_type": "code",
   "execution_count": 38,
   "metadata": {},
   "outputs": [],
   "source": [
    "import numpy as np\n",
    "from scipy.ndimage import uniform_filter1d\n",
    "from scipy.stats import linregress\n",
    "\n",
    "def smooth_exp(D, mode, window):\n",
    "    \"\"\"\n",
    "    Smooth data but do a linear fit at the start to avoid issues with edge\n",
    "    effects. Useful for exponential bleaching curves.\n",
    "    \"\"\"\n",
    "    # First dimension is time\n",
    "    origsz = D.shape\n",
    "    D = D.reshape(D.shape[0], -1)\n",
    "    window = int(min(window, D.shape[0]))  # Ensure window is an integer\n",
    "    t = np.arange(1, window + 1)\n",
    "    p = np.column_stack((t, np.ones_like(t)))\n",
    "\n",
    "    # Smooth data\n",
    "    if mode == 'movmean':\n",
    "        sVals = uniform_filter1d(D, size=window, axis=0, mode='nearest')\n",
    "    else:\n",
    "        raise ValueError(\"Unsupported mode\")\n",
    "\n",
    "    lVals = np.full((len(t), D.shape[1]), np.nan)\n",
    "    for ix in range(D.shape[1]):\n",
    "        inds = np.where(~np.isnan(D[t-1, ix]))[0]\n",
    "        if len(inds) > 0:\n",
    "            b = linregress(inds, D[inds, ix])\n",
    "            lVals[:, ix] = p @ np.array([b.slope, b.intercept])\n",
    "\n",
    "    weights = t / len(t)\n",
    "    sVals[t-1, :] = weights[:, None] * sVals[t-1, :] + (1 - weights[:, None]) * lVals\n",
    "\n",
    "    mVals = uniform_filter1d(D[:min(len(D), 2*window), :] - sVals[:min(len(D), 2*window), :], size=window, axis=0, mode='nearest')\n",
    "    sVals[:window, :] = sVals[:window, :] + mVals[:window, :]\n",
    "    sVals = sVals.reshape(origsz)\n",
    "    \n",
    "    return sVals\n"
   ]
  },
  {
   "cell_type": "code",
   "execution_count": 48,
   "metadata": {},
   "outputs": [
    {
     "name": "stdout",
     "output_type": "stream",
     "text": [
      "Temporary file created at: /tmp/tmpr83x0dz1.h5\n",
      "Trial: 4\n"
     ]
    },
    {
     "name": "stderr",
     "output_type": "stream",
     "text": [
      "/tmp/ipykernel_880/129618990.py:77: RuntimeWarning: Mean of empty slice\n",
      "  meanIM[:, :, :, trialIx] = np.nanmean(IM, axis=3)\n"
     ]
    },
    {
     "ename": "NameError",
     "evalue": "name 'rawIMs' is not defined",
     "output_type": "error",
     "traceback": [
      "\u001b[0;31m---------------------------------------------------------------------------\u001b[0m",
      "\u001b[0;31mNameError\u001b[0m                                 Traceback (most recent call last)",
      "Cell \u001b[0;32mIn[48], line 103\u001b[0m\n\u001b[1;32m    100\u001b[0m     discardFrames[trialIx] \u001b[39m=\u001b[39m binary_dilation(filtTmp \u001b[39m<\u001b[39m \u001b[39m-\u001b[39m(\u001b[39m4\u001b[39m \u001b[39m*\u001b[39m np\u001b[39m.\u001b[39mstd(filtTmp)), structure\u001b[39m=\u001b[39mnp\u001b[39m.\u001b[39mones(\u001b[39m5\u001b[39m))\n\u001b[1;32m    102\u001b[0m     \u001b[39m# Assuming trialIx, IM, and discardFrames are defined\u001b[39;00m\n\u001b[0;32m--> 103\u001b[0m     rawIMs[trialIx] \u001b[39m=\u001b[39m np\u001b[39m.\u001b[39msqueeze(IM[:,:,\u001b[39m0\u001b[39m,:])\n\u001b[1;32m    104\u001b[0m     rawIMs[trialIx][:,:,discardFrames[trialIx]] \u001b[39m=\u001b[39m np\u001b[39m.\u001b[39mnan\n\u001b[1;32m    105\u001b[0m \u001b[39mbreak\u001b[39;00m\n",
      "\u001b[0;31mNameError\u001b[0m: name 'rawIMs' is not defined"
     ]
    }
   ],
   "source": [
    "import os\n",
    "import glob\n",
    "import re\n",
    "import tempfile\n",
    "import h5py\n",
    "import numpy as np\n",
    "from ScanImageTiffReader import ScanImageTiffReader\n",
    "\n",
    "savedr = '/root/capsule/scratch/test1/'\n",
    "\n",
    "# Define the directory path\n",
    "fns = '/root/capsule/data/iGluSnFR-testing-Sim-Data-Registered/1/'\n",
    "\n",
    "# Define the pattern to match files\n",
    "pattern = os.path.join(fns, '*_Trial*.tif')\n",
    "\n",
    "# Use glob to find all files matching the initial pattern\n",
    "initial_matching_files = glob.glob(pattern)\n",
    "\n",
    "# Define a regular expression to match files ending with 'Trial<int>.tif'\n",
    "regex = re.compile(r'.*_Trial\\d+\\.tif$')\n",
    "\n",
    "# Filter the files using the regular expression\n",
    "strict_matching_files = [f for f in initial_matching_files if regex.match(f)]\n",
    "\n",
    "params = {\n",
    "    \"tau_s\": 0.027,  # time constant in seconds for glutamate channel; from Aggarwal et al 2023 Fig 5\n",
    "    \"sigma_px\": 1.33,  # space constant in pixels\n",
    "    \"eventRateThresh_hz\": 1/10,  # minimum event rate in Hz\n",
    "    \"sparseFac\": 0.1,  # sparsity factor for shrinking sources in space, 0-1, higher value makes things sparser\n",
    "    \"nmfIter\": 5,  # number of iterations of NMF refinement\n",
    "    \"dXY\": 3,  # how large sources can be (radius), pixels\n",
    "    \"upsample\": 3,  # how many times to upsample the imaging resolution for finding local maxima to identify sources; affects maximum source density\n",
    "    \"nmfBackgroundComps\": 0,  # <=4, max number of background components to use for NMF. If 0, we compute F0 instead of fitting background\n",
    "    \"denoiseWindow_samps\": 35,  # number of samples to average together for denoising\n",
    "    \"baselineWindow_Glu_s\": 2,  # timescale for calculating F0 in glutamate channel, seconds\n",
    "    \"baselineWindow_Ca_s\": 2  # timescale for calculating F0 in calcium channel, seconds\n",
    "}\n",
    "\n",
    "# Path to the original HDF5 file\n",
    "original_gt_path = '/root/capsule/data/iGluSnFR-testing-Sim-Data_2/1/SIMULATION_scan_00003_1_Trial1_groundtruth.h5'\n",
    "\n",
    "# Create a temporary file for the HDF5 operations\n",
    "with tempfile.NamedTemporaryFile(suffix='.h5', delete=False) as temp_file:\n",
    "    temp_file_path = temp_file.name\n",
    "\n",
    "# Copy contents from the original HDF5 file to the temporary file\n",
    "with h5py.File(original_gt_path, 'r') as original_gt, h5py.File(temp_file_path, 'w') as temp_gt:\n",
    "    for key in original_gt.keys():\n",
    "        original_gt.copy(key, temp_gt)\n",
    "\n",
    "# Load alignment data (example)\n",
    "meanIM = np.random.rand(10, 10, 10, 5)  # Example data\n",
    "trialIx = 0\n",
    "meanIM[:, :, :, trialIx] = np.nanmean(meanIM, axis=3)\n",
    "\n",
    "print(f\"Temporary file created at: {temp_file_path}\")\n",
    "\n",
    "# Process the TIFF files\n",
    "discardFrames = [None] * len(strict_matching_files)\n",
    "rawIMs = [None] * len(strict_matching_files)\n",
    "for trialIx in range(len(strict_matching_files) - 1, -1, -1):\n",
    "    print('Trial:', trialIx)\n",
    "    fn = strict_matching_files[trialIx]\n",
    "\n",
    "    # Load the TIFF\n",
    "    IM = ScanImageTiffReader(fn)\n",
    "    IM = np.array(IM.data(), dtype=np.float32).T\n",
    "\n",
    "    meanIM = np.full((IM.shape[0], IM.shape[1], 1, len(strict_matching_files)), np.nan)\n",
    "\n",
    "    if IM.shape[1] < 100:\n",
    "        raise ValueError(f'{fn} is very short')\n",
    "    \n",
    "    IM = IM.reshape(IM.shape[0], IM.shape[1], 1, -1)  # deinterleave\n",
    "    \n",
    "    meanIM[:, :, :, trialIx] = np.nanmean(IM, axis=3)\n",
    "\n",
    "    # Load alignment data from the temporary file\n",
    "    with h5py.File(temp_file_path, 'r+') as temp_gt:\n",
    "        temp_gt['aData/dsFac'] = round(len(temp_gt['aData/motionC'][()]) / len(temp_gt['aData/motionDSc'][()]))\n",
    "        params['dsFac'] = temp_gt['aData/dsFac'][()]\n",
    "        params['frametime'] = temp_gt['aData/frametime'][()]\n",
    "\n",
    "        # Flatten aRankCorr\n",
    "        aRankCorr_flat = np.ravel(temp_gt['aData/aRankCorr'])\n",
    "\n",
    "        # Calculate the window size for the moving median\n",
    "        window_size = int(np.ceil(10 / (temp_gt['aData/frametime'][()] * temp_gt['aData/dsFac'][()])))\n",
    "\n",
    "        # Calculate the moving median using uniform_filter1d\n",
    "        moving_median = uniform_filter1d(aRankCorr_flat, size=window_size)\n",
    "\n",
    "        # Subtract the moving median from aRankCorr\n",
    "        tmp = aRankCorr_flat - moving_median\n",
    "        \n",
    "        filtTmp = smooth_exp(tmp, 'movmean', np.ceil(.2/((temp_gt['aData/frametime'][()]*temp_gt['aData/dsFac'][()]))))\n",
    "\n",
    "        # Assuming trialIx and filtTmp are defined\n",
    "        discardFrames[trialIx] = binary_dilation(filtTmp < -(4 * np.std(filtTmp)), structure=np.ones(5))\n",
    "\n",
    "        # Assuming trialIx, IM, and discardFrames are defined\n",
    "        rawIMs[trialIx] = np.squeeze(IM[:,:,0,:])\n",
    "        rawIMs[trialIx][:,:,discardFrames[trialIx]] = np.nan\n",
    "    break"
   ]
  },
  {
   "cell_type": "code",
   "execution_count": 47,
   "metadata": {},
   "outputs": [
    {
     "data": {
      "text/plain": [
       "[None,\n",
       " None,\n",
       " None,\n",
       " None,\n",
       " array([False, False, False, ..., False, False, False])]"
      ]
     },
     "execution_count": 47,
     "metadata": {},
     "output_type": "execute_result"
    }
   ],
   "source": [
    "discardFrames"
   ]
  },
  {
   "cell_type": "code",
   "execution_count": 101,
   "metadata": {},
   "outputs": [
    {
     "data": {
      "text/plain": [
       "<matplotlib.image.AxesImage at 0x7fd03435b7f0>"
      ]
     },
     "execution_count": 101,
     "metadata": {},
     "output_type": "execute_result"
    },
    {
     "data": {
      "image/png": "[encoded data removed]",
      "text/plain": [
       "<Figure size 640x480 with 1 Axes>"
      ]
     },
     "metadata": {},
     "output_type": "display_data"
    }
   ],
   "source": [
    "plt.imshow(meanIM[:,:,0,trialIx])"
   ]
  },
  {
   "cell_type": "code",
   "execution_count": 130,
   "metadata": {},
   "outputs": [],
   "source": [
    "# Open the HDF5 file\n",
    "gt = h5py.File('/root/capsule/data/iGluSnFR-testing-Sim-Data_2/1/SIMULATION_scan_00003_1_Trial1_groundtruth.h5', 'r')\n",
    "\n",
    "# Access the dataset\n",
    "dataset = gt['aData/motionC']\n",
    "\n",
    "# Read the data\n",
    "data = dataset[()]\n",
    "\n",
    "# Don't forget to close the file when you're done\n",
    "# gt.close()"
   ]
  },
  {
   "cell_type": "code",
   "execution_count": 121,
   "metadata": {},
   "outputs": [
    {
     "data": {
      "text/plain": [
       "<HDF5 dataset \"motionC\": shape (10000,), type \"<f8\">"
      ]
     },
     "execution_count": 121,
     "metadata": {},
     "output_type": "execute_result"
    }
   ],
   "source": [
    "a = gt['aData']\n",
    "a['motionC']"
   ]
  },
  {
   "cell_type": "code",
   "execution_count": 133,
   "metadata": {},
   "outputs": [
    {
     "data": {
      "text/plain": [
       "<KeysViewHDF5 ['aError', 'aRankCorr', 'frametime', 'motionC', 'motionDSc', 'motionDSr', 'motionR', 'numChannels']>"
      ]
     },
     "execution_count": 133,
     "metadata": {},
     "output_type": "execute_result"
    }
   ],
   "source": [
    "gt['aData'].keys()"
   ]
  },
  {
   "cell_type": "code",
   "execution_count": 1,
   "metadata": {},
   "outputs": [
    {
     "data": {
      "text/plain": [
       "'/tmp'"
      ]
     },
     "execution_count": 1,
     "metadata": {},
     "output_type": "execute_result"
    }
   ],
   "source": [
    "import tempfile\n",
    "tempfile.gettempdir()"
   ]
  },
  {
   "cell_type": "code",
   "execution_count": null,
   "metadata": {},
   "outputs": [],
   "source": []
  }
 ],
 "metadata": {
  "kernelspec": {
   "display_name": "base",
   "language": "python",
   "name": "python3"
  },
  "language_info": {
   "codemirror_mode": {
    "name": "ipython",
    "version": 3
   },
   "file_extension": ".py",
   "mimetype": "text/x-python",
   "name": "python",
   "nbconvert_exporter": "python",
   "pygments_lexer": "ipython3",
   "version": "3.10.12 | packaged by conda-forge | (main, Jun 23 2023, 22:40:32) [GCC 12.3.0]"
  },
  "orig_nbformat": 4,
  "vscode": {
   "interpreter": {
    "hash": "d4d1e4263499bec80672ea0156c357c1ee493ec2b1c70f0acce89fc37c4a6abe"
   }
  }
 },
 "nbformat": 4,
 "nbformat_minor": 2
}
