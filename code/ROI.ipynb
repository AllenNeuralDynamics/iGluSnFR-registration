{
 "cells": [
  {
   "cell_type": "code",
   "execution_count": 36,
   "metadata": {},
   "outputs": [],
   "source": [
    "from scipy.io import loadmat\n",
    "import h5py\n",
    "import numpy as np"
   ]
  },
  {
   "cell_type": "code",
   "execution_count": 37,
   "metadata": {},
   "outputs": [
    {
     "ename": "IndexError",
     "evalue": "only integers, slices (`:`), ellipsis (`...`), numpy.newaxis (`None`) and integer or boolean arrays are valid indices",
     "output_type": "error",
     "traceback": [
      "\u001b[0;31m---------------------------------------------------------------------------\u001b[0m",
      "\u001b[0;31mIndexError\u001b[0m                                Traceback (most recent call last)",
      "Cell \u001b[0;32mIn[37], line 4\u001b[0m\n\u001b[1;32m      2\u001b[0m \u001b[39m# exptSummary = exptSummary['exptSummary']\u001b[39;00m\n\u001b[1;32m      3\u001b[0m params \u001b[39m=\u001b[39m exptSummary[\u001b[39m'\u001b[39m\u001b[39mexptSummary\u001b[39m\u001b[39m'\u001b[39m][\u001b[39m'\u001b[39m\u001b[39mparams\u001b[39m\u001b[39m'\u001b[39m]\n\u001b[0;32m----> 4\u001b[0m baselineWindow \u001b[39m=\u001b[39m np\u001b[39m.\u001b[39mceil(params[\u001b[39m'\u001b[39;49m\u001b[39mbaselineWindow_Glu_s\u001b[39;49m\u001b[39m'\u001b[39;49m]\u001b[39m/\u001b[39mparams[\u001b[39m'\u001b[39m\u001b[39mframetime\u001b[39m\u001b[39m'\u001b[39m])\n\u001b[1;32m      6\u001b[0m \u001b[39m# with h5py.File('/root/capsule/scratch/Matlab/SIMULATION_scan_00003_Standard2_SIMPARAMS.mat', 'r') as f:\u001b[39;00m\n\u001b[1;32m      7\u001b[0m \u001b[39m#     params = f['param'][()]\u001b[39;00m\n",
      "\u001b[0;31mIndexError\u001b[0m: only integers, slices (`:`), ellipsis (`...`), numpy.newaxis (`None`) and integer or boolean arrays are valid indices"
     ]
    }
   ],
   "source": [
    "exptSummary = loadmat('/root/capsule/scratch/Matlab/scan_00003_20230815_162233_DENOISED_EXPTSUMMARY.mat')\n",
    "# exptSummary = exptSummary['exptSummary']\n",
    "params = exptSummary['exptSummary']['params']\n",
    "baselineWindow = np.ceil(params['baselineWindow_Glu_s']/params['frametime'])\n",
    "\n",
    "# with h5py.File('/root/capsule/scratch/Matlab/SIMULATION_scan_00003_Standard2_SIMPARAMS.mat', 'r') as f:\n",
    "#     params = f['param'][()]\n",
    "\n"
   ]
  },
  {
   "cell_type": "code",
   "execution_count": 34,
   "metadata": {},
   "outputs": [
    {
     "data": {
      "text/plain": [
       "dtype([('meanIM', 'O'), ('actIM', 'O'), ('params', 'O'), ('dFerr', 'O'), ('matchFilt', 'O'), ('events', 'O'), ('dF', 'O'), ('dF2', 'O'), ('dFls', 'O'), ('F0', 'O'), ('footprints', 'O'), ('dFF', 'O'), ('dFF2', 'O'), ('dFFls', 'O'), ('fns', 'O'), ('dr', 'O'), ('peaks', 'O'), ('perTrialMeanIMs', 'O'), ('perTrialActIms', 'O'), ('perTrialAlignmentOffsets', 'O')])"
      ]
     },
     "execution_count": 34,
     "metadata": {},
     "output_type": "execute_result"
    }
   ],
   "source": [
    "exptSummary['exptSummary'].dtype"
   ]
  },
  {
   "cell_type": "code",
   "execution_count": 66,
   "metadata": {},
   "outputs": [
    {
     "data": {
      "text/plain": [
       "array([2], dtype=uint8)"
      ]
     },
     "execution_count": 66,
     "metadata": {},
     "output_type": "execute_result"
    }
   ],
   "source": [
    "params[0][0][0][0]['baselineWindow_Glu_s'][0]"
   ]
  },
  {
   "cell_type": "code",
   "execution_count": 68,
   "metadata": {},
   "outputs": [],
   "source": [
    "data = np.array(params[0][0][0], dtype=[(name, 'O') for name in params[0][0][0][0].dtype.names])\n"
   ]
  },
  {
   "cell_type": "code",
   "execution_count": null,
   "metadata": {},
   "outputs": [],
   "source": []
  },
  {
   "cell_type": "code",
   "execution_count": null,
   "metadata": {},
   "outputs": [],
   "source": []
  }
 ],
 "metadata": {
  "kernelspec": {
   "display_name": "base",
   "language": "python",
   "name": "python3"
  },
  "language_info": {
   "codemirror_mode": {
    "name": "ipython",
    "version": 3
   },
   "file_extension": ".py",
   "mimetype": "text/x-python",
   "name": "python",
   "nbconvert_exporter": "python",
   "pygments_lexer": "ipython3",
   "version": "3.10.12 | packaged by conda-forge | (main, Jun 23 2023, 22:40:32) [GCC 12.3.0]"
  },
  "orig_nbformat": 4,
  "vscode": {
   "interpreter": {
    "hash": "d4d1e4263499bec80672ea0156c357c1ee493ec2b1c70f0acce89fc37c4a6abe"
   }
  }
 },
 "nbformat": 4,
 "nbformat_minor": 2
}
